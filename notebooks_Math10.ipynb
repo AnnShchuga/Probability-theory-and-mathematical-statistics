{
  "metadata": {
    "language_info": {
      "codemirror_mode": {
        "name": "python",
        "version": 3
      },
      "file_extension": ".py",
      "mimetype": "text/x-python",
      "name": "python",
      "nbconvert_exporter": "python",
      "pygments_lexer": "ipython3",
      "version": "3.8"
    },
    "kernelspec": {
      "name": "python",
      "display_name": "Python (Pyodide)",
      "language": "python"
    }
  },
  "nbformat_minor": 4,
  "nbformat": 4,
  "cells": [
    {
      "cell_type": "code",
      "source": "#1. Провести дисперсионный анализ для определения того, есть ли различия среднего роста среди взрослых футболистов, хоккеистов и штангистов. \n#Даны значения роста в трех группах случайно выбранных спортсменов:\n#Футболисты: 173, 175, 180, 178, 177, 185, 183, 182.\n#Хоккеисты: 177, 179, 180, 188, 177, 172, 171, 184, 180.\n#Штангисты: 172, 173, 169, 177, 166, 180, 178, 177, 172, 166, 170.",
      "metadata": {
        "trusted": true
      },
      "execution_count": 1,
      "outputs": []
    },
    {
      "cell_type": "code",
      "source": "import numpy as np\nimport pandas as pd\nfrom scipy import stats",
      "metadata": {
        "trusted": true
      },
      "execution_count": 2,
      "outputs": []
    },
    {
      "cell_type": "code",
      "source": "football=np.array([173, 175, 180, 178, 177, 185, 183, 182])\nhockey=np.array([177, 179, 180, 188, 177, 172, 171, 184, 180])\nweightlifting=np.array([172, 173, 169, 177, 166, 180, 178, 177, 172, 166, 170])",
      "metadata": {
        "trusted": true
      },
      "execution_count": 3,
      "outputs": []
    },
    {
      "cell_type": "code",
      "source": "#Сформулируем нулевую гипотезу:\n#Средний рост спортсмена не зависит от вида спорта, которым он занимается(из представленных трех).\n#H0:u1=u2=u3\n\n#Альтернативная гипотеза:\n#Средний рост спортсмена зависит от выбранного им спорта.\n#H0:u1<>u2<>u3",
      "metadata": {
        "trusted": true
      },
      "execution_count": 4,
      "outputs": []
    },
    {
      "cell_type": "code",
      "source": "stats.f_oneway(football, hockey, weightlifting)\n\nstat, p = stats.f_oneway(football, hockey, weightlifting)\nprint('Statistics=%.3f, p-value=%.3f' % (stat, p))\n\nalpha = 0.05\nif p > alpha:\n    print('Средний рост спортсмена не зависит от вида спорта, которым он занимается')\nelse:\n    print('Средний рост спортсмена зависит от выбранного им спорта')",
      "metadata": {
        "trusted": true
      },
      "execution_count": 5,
      "outputs": [
        {
          "name": "stdout",
          "text": "Statistics=5.500, p-value=0.010\nСредний рост спортсмена зависит от выбранного им спорта\n",
          "output_type": "stream"
        }
      ]
    },
    {
      "cell_type": "code",
      "source": "stats.f_oneway(football, hockey, weightlifting)\n\nstat, p = stats.f_oneway(football, hockey, weightlifting)\nprint('Statistics=%.3f, p-value=%.3f' % (stat, p))\n\nalpha = 0.01\nif p > alpha:\n    print('Средний рост спортсмена не зависит от вида спорта, которым он занимается')\nelse:\n    print('Средний рост спортсмена зависит от выбранного им спорта')",
      "metadata": {
        "trusted": true
      },
      "execution_count": 6,
      "outputs": [
        {
          "name": "stdout",
          "text": "Statistics=5.500, p-value=0.010\nСредний рост спортсмена не зависит от вида спорта, которым он занимается\n",
          "output_type": "stream"
        }
      ]
    },
    {
      "cell_type": "code",
      "source": "",
      "metadata": {},
      "execution_count": null,
      "outputs": []
    }
  ]
}