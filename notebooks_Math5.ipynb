{
  "metadata": {
    "language_info": {
      "codemirror_mode": {
        "name": "python",
        "version": 3
      },
      "file_extension": ".py",
      "mimetype": "text/x-python",
      "name": "python",
      "nbconvert_exporter": "python",
      "pygments_lexer": "ipython3",
      "version": "3.8"
    },
    "kernelspec": {
      "name": "python",
      "display_name": "Python (Pyodide)",
      "language": "python"
    }
  },
  "nbformat_minor": 4,
  "nbformat": 4,
  "cells": [
    {
      "cell_type": "markdown",
      "source": "Задачу решать с помощью функции. Есть ли статистически значимые различия в росте дочерей?\n\nРост матерей 172, 177, 158, 170, 178,175, 164, 160, 169, 165\n\nРост взрослых дочерей: 173, 175, 162, 174, 175, 168, 155, 170, 160\n\nВ виду неравного количества матерей и дочерей, добавим к росту дочерей максимальное значение роста у матерей - 178.",
      "metadata": {}
    },
    {
      "cell_type": "code",
      "source": "import scipy.stats as stats\nimport numpy as np\nimport pylab\nfrom math import sqrt\nx = np.array([172, 177, 158, 170, 178,175, 164, 160, 169, 165])\ny = np.array([173, 175, 162, 174, 175, 168, 155, 170, 160, 178])",
      "metadata": {
        "trusted": true
      },
      "execution_count": 11,
      "outputs": []
    },
    {
      "cell_type": "code",
      "source": "\"t-тест Стьюдента для зависимых выборок:\"\n#Используем данный вид выборки в виду того, что между ростом родитетей и детей имеется генетическая связь\nstat, p = stats.ttest_rel(x,y)\nprint('Statistics=%.3f, p-value=%.3f' % (stat, p))\n\nalpha = 0.05\nif p > alpha:\n    print('Принять гипотезу о нормальности')\nelse:\n    print('Отклонить гипотезу о нормальности')",
      "metadata": {
        "trusted": true
      },
      "execution_count": 12,
      "outputs": [
        {
          "name": "stdout",
          "text": "Statistics=-0.083, p-value=0.936\nПринять гипотезу о нормальности\n",
          "output_type": "stream"
        }
      ]
    },
    {
      "cell_type": "code",
      "source": "",
      "metadata": {},
      "execution_count": null,
      "outputs": []
    },
    {
      "cell_type": "code",
      "source": "len(x), len(y)",
      "metadata": {
        "trusted": true
      },
      "execution_count": 13,
      "outputs": [
        {
          "execution_count": 13,
          "output_type": "execute_result",
          "data": {
            "text/plain": "(10, 10)"
          },
          "metadata": {}
        }
      ]
    },
    {
      "cell_type": "code",
      "source": "avg_x = np.mean(x)\nprint(f'Среднее значение X: {avg_x: .3f}')",
      "metadata": {
        "trusted": true
      },
      "execution_count": 14,
      "outputs": [
        {
          "name": "stdout",
          "text": "Среднее значение X:  168.800\n",
          "output_type": "stream"
        }
      ]
    },
    {
      "cell_type": "code",
      "source": "avg_y = np.mean(y)\nprint(f'Среднее значение Y: {avg_y: .3f}')",
      "metadata": {
        "trusted": true
      },
      "execution_count": 15,
      "outputs": [
        {
          "name": "stdout",
          "text": "Среднее значение Y:  169.000\n",
          "output_type": "stream"
        }
      ]
    },
    {
      "cell_type": "code",
      "source": "s_x = np.var(x, ddof = 1)\nprint(f'Дисперсия значений элементов массива X: {s_x: .3f}')",
      "metadata": {
        "trusted": true
      },
      "execution_count": 16,
      "outputs": [
        {
          "name": "stdout",
          "text": "Дисперсия значений элементов массива X:  48.178\n",
          "output_type": "stream"
        }
      ]
    },
    {
      "cell_type": "code",
      "source": "s_y = np.var(y, ddof = 1)\nprint(f'Дисперсия значений элементов массива Y: {s_y: .3f}')",
      "metadata": {
        "trusted": true
      },
      "execution_count": 17,
      "outputs": [
        {
          "name": "stdout",
          "text": "Дисперсия значений элементов массива Y:  58.000\n",
          "output_type": "stream"
        }
      ]
    },
    {
      "cell_type": "code",
      "source": "std_x = np.std(x, ddof = 1)\nprint(f'Среднеквадратичное отклонение элементов массива Х: {std_x: .3f}')",
      "metadata": {
        "trusted": true
      },
      "execution_count": 18,
      "outputs": [
        {
          "name": "stdout",
          "text": "Среднеквадратичное отклонение элементов массива Х:  6.941\n",
          "output_type": "stream"
        }
      ]
    },
    {
      "cell_type": "code",
      "source": "std_y = np.std(y, ddof = 1)\nprint(f'Среднеквадратичное отклонение элементов массива Y: {std_y: .3f}')",
      "metadata": {
        "trusted": true
      },
      "execution_count": 19,
      "outputs": [
        {
          "name": "stdout",
          "text": "Среднеквадратичное отклонение элементов массива Y:  7.616\n",
          "output_type": "stream"
        }
      ]
    },
    {
      "cell_type": "code",
      "source": "t = (avg_x-avg_y)/sqrt(s_x/len(x)+s_y/len(y))\nprint(f't-критерий: {t: .3f}')",
      "metadata": {
        "trusted": true
      },
      "execution_count": 20,
      "outputs": [
        {
          "name": "stdout",
          "text": "t-критерий: -0.061\n",
          "output_type": "stream"
        }
      ]
    },
    {
      "cell_type": "code",
      "source": "",
      "metadata": {},
      "execution_count": null,
      "outputs": []
    }
  ]
}